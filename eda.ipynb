{
 "cells": [
  {
   "cell_type": "markdown",
   "id": "b2d011f9",
   "metadata": {},
   "source": [
    "# Clean & EDA \n"
   ]
  },
  {
   "cell_type": "markdown",
   "id": "8d187a8a",
   "metadata": {},
   "source": [
    "### Import "
   ]
  },
  {
   "cell_type": "code",
   "execution_count": null,
   "id": "566ed33b",
   "metadata": {},
   "outputs": [],
   "source": [
    "import pandas as pd\n",
    "import matplotlib.pyplot as plt\n",
    "import seaborn as sns\n",
    "import datetime as dt\n",
    "from helper import rolling_outliers_zscore"
   ]
  },
  {
   "cell_type": "code",
   "execution_count": null,
   "id": "5a63e2e0",
   "metadata": {},
   "outputs": [],
   "source": [
    "# Optional: nice plot styles\n",
    "sns.set(style=\"whitegrid\")\n",
    "plt.rcParams['figure.figsize'] = (12, 6)"
   ]
  },
  {
   "cell_type": "markdown",
   "id": "0895eb23",
   "metadata": {},
   "source": [
    "### Read in data"
   ]
  },
  {
   "cell_type": "code",
   "execution_count": null,
   "id": "19d6c473",
   "metadata": {},
   "outputs": [],
   "source": [
    "\n",
    "df = pd.read_csv(\"garmin_summary.csv\")"
   ]
  },
  {
   "cell_type": "markdown",
   "id": "48803db0",
   "metadata": {},
   "source": [
    "### Sort by calendar date"
   ]
  },
  {
   "cell_type": "code",
   "execution_count": null,
   "id": "3c8438f7",
   "metadata": {},
   "outputs": [],
   "source": [
    "df['calendarDate'] = pd.to_datetime(df['calendarDate'])\n",
    "df = df.sort_values('calendarDate')"
   ]
  },
  {
   "cell_type": "code",
   "execution_count": null,
   "id": "482dfee8",
   "metadata": {},
   "outputs": [],
   "source": [
    "plt.plot(df['calendarDate'], df['restingHeartRate'], label='Daily RHR', alpha=0.5)\n",
    "plt.plot(df['calendarDate'], df['restingHeartRate'].rolling(window=14, min_periods=5, center=True).mean(), label='2-Week Avg', linewidth=2)\n",
    "plt.title('Resting Heart Rate Over Time')\n",
    "plt.xlabel('Date')\n",
    "plt.ylabel('Resting Heart Rate (BPM)')\n",
    "plt.legend()\n",
    "plt.tight_layout()\n",
    "plt.show()"
   ]
  },
  {
   "cell_type": "code",
   "execution_count": null,
   "id": "a11da855",
   "metadata": {},
   "outputs": [],
   "source": [
    "print(\"Resting Heart Rate Summary:\")\n",
    "print(df['restingHeartRate'].describe())"
   ]
  },
  {
   "cell_type": "code",
   "execution_count": null,
   "id": "c11a343f",
   "metadata": {},
   "outputs": [],
   "source": [
    "df['month'] = df['calendarDate'].dt.to_period('M')\n",
    "sns.boxplot(x=df['month'].astype(str), y=df['restingHeartRate'])\n",
    "plt.xticks(rotation=45)\n",
    "plt.title('Monthly Resting Heart Rate Distribution')\n",
    "plt.show()"
   ]
  },
  {
   "cell_type": "code",
   "execution_count": null,
   "id": "d5337562",
   "metadata": {},
   "outputs": [],
   "source": [
    "outlier_mask, z_scores = rolling_outliers_zscore(df['restingHeartRate'], debug=True)\n",
    "\n",
    "df['rhr_outlier'] = outlier_mask\n",
    "df['rhr_zscore'] = z_scores\n"
   ]
  },
  {
   "cell_type": "code",
   "execution_count": null,
   "id": "784c50da",
   "metadata": {},
   "outputs": [],
   "source": [
    "plt.figure(figsize=(12, 5))\n",
    "plt.plot(df['calendarDate'], df['restingHeartRate'], label='Resting HR')\n",
    "plt.scatter(df.loc[df['rhr_outlier'], 'calendarDate'],\n",
    "            df.loc[df['rhr_outlier'], 'restingHeartRate'],\n",
    "            color='red', label='Outlier')\n",
    "plt.title('Time-Aware Outliers in Resting Heart Rate')\n",
    "plt.legend()\n",
    "plt.show()\n"
   ]
  },
  {
   "cell_type": "code",
   "execution_count": null,
   "id": "322711ee",
   "metadata": {},
   "outputs": [],
   "source": [
    "outlier_count = df['rhr_outlier'].sum()\n",
    "print(f\"Total RHR outliers: {outlier_count}\")\n"
   ]
  },
  {
   "cell_type": "code",
   "execution_count": null,
   "id": "b07fc641",
   "metadata": {},
   "outputs": [],
   "source": [
    "df['calendarDate'] = pd.to_datetime(df['calendarDate'])  # or whatever your date column is named\n",
    "df.set_index('calendarDate', inplace=True)\n"
   ]
  },
  {
   "cell_type": "code",
   "execution_count": null,
   "id": "22c13f1c",
   "metadata": {},
   "outputs": [],
   "source": [
    "\n",
    "import matplotlib.pyplot as plt\n",
    "\n",
    "# Assuming df has a datetime index and a 'restingHeartRate' column\n",
    "windows = [7, 14, 21]\n",
    "\n",
    "for w in windows:\n",
    "    rolling_mean = df['restingHeartRate'].rolling(window=w, center=True).mean()\n",
    "    rolling_std = df['restingHeartRate'].rolling(window=w, center=True).std()\n",
    "    z_scores = (df['restingHeartRate'] - rolling_mean) / rolling_std\n",
    "    df[f'zscore_{w}d'] = z_scores\n",
    "\n",
    "threshold = 2\n",
    "for w in windows:\n",
    "    df[f'outlier_{w}d'] = df[f'zscore_{w}d'].abs() > threshold\n",
    "    \n",
    "plt.figure(figsize=(15, 6))\n",
    "\n",
    "plt.plot(df.index, df['restingHeartRate'], label='Resting HR', color='gray', alpha=0.6)\n",
    "\n",
    "colors = ['red', 'orange', 'green']\n",
    "for w, color in zip(windows, colors):\n",
    "    outliers = df[df[f'outlier_{w}d']]\n",
    "    plt.scatter(outliers.index, outliers['restingHeartRate'], label=f'Outliers ({w}d)', color=color)\n",
    "\n",
    "plt.title('Resting Heart Rate with Rolling Z-Score Outliers')\n",
    "plt.xlabel('Date')\n",
    "plt.ylabel('Resting Heart Rate (bpm)')\n",
    "plt.legend()\n",
    "plt.tight_layout()\n",
    "plt.show()\n"
   ]
  },
  {
   "cell_type": "code",
   "execution_count": null,
   "id": "922a1178",
   "metadata": {},
   "outputs": [],
   "source": [
    "# Cleaned data (no outliers)\n",
    "clean_df = df[~df['rhr_outlier']]  # Assuming you've already created this mask\n",
    "\n",
    "\n"
   ]
  },
  {
   "cell_type": "code",
   "execution_count": null,
   "id": "9b60c08f",
   "metadata": {},
   "outputs": [],
   "source": [
    "plt.plot(clean_df.index, clean_df['restingHeartRate'], label='RHR without outliers')\n",
    "plt.xlabel('Date')\n",
    "plt.ylabel('Resting Heart Rate (BPM)')\n",
    "plt.title('Resting Heart Rate Trend (With and Without Outliers)')\n",
    "plt.legend()\n",
    "plt.grid(True)\n",
    "plt.tight_layout()\n",
    "plt.show()\n"
   ]
  }
 ],
 "metadata": {
  "kernelspec": {
   "display_name": "venv",
   "language": "python",
   "name": "python3"
  },
  "language_info": {
   "codemirror_mode": {
    "name": "ipython",
    "version": 3
   },
   "file_extension": ".py",
   "mimetype": "text/x-python",
   "name": "python",
   "nbconvert_exporter": "python",
   "pygments_lexer": "ipython3",
   "version": "3.12.1"
  }
 },
 "nbformat": 4,
 "nbformat_minor": 5
}
